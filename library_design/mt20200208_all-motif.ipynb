{
 "cells": [
  {
   "cell_type": "markdown",
   "metadata": {},
   "source": [
    "# Design of a random 14-mer TF motif library \n",
    "The aim of this code is to create random 14-mers, and to select meaningful 14-mers by:\n",
    "\n",
    "a) selecting 14-mers that occur in the (mouse) genome\n",
    "\n",
    "b) selecting 14-mers that have a TF motif or are close to a TF motif"
   ]
  },
  {
   "cell_type": "code",
   "execution_count": 11,
   "metadata": {},
   "outputs": [
    {
     "ename": "SyntaxError",
     "evalue": "invalid syntax (<ipython-input-11-979d866c88dc>, line 11)",
     "output_type": "error",
     "traceback": [
      "\u001b[0;36m  File \u001b[0;32m\"<ipython-input-11-979d866c88dc>\"\u001b[0;36m, line \u001b[0;32m11\u001b[0m\n\u001b[0;31m    pip install pyBigWig\u001b[0m\n\u001b[0m              ^\u001b[0m\n\u001b[0;31mSyntaxError\u001b[0m\u001b[0;31m:\u001b[0m invalid syntax\n"
     ]
    }
   ],
   "source": [
    "## Import libraries\n",
    "\n",
    "import os\n",
    "\n",
    "import pandas as pd\n",
    "\n",
    "from functools import reduce\n",
    "\n",
    "import itertools"
   ]
  },
  {
   "cell_type": "code",
   "execution_count": 6,
   "metadata": {},
   "outputs": [
    {
     "data": {
      "text/plain": [
       "['AAAAAAAAAAAA', 'AAAAAAAAAAAC', 'AAAAAAAAAAAT']"
      ]
     },
     "execution_count": 6,
     "metadata": {},
     "output_type": "execute_result"
    }
   ],
   "source": [
    "## Generate all 14-bp kmers\n",
    "bases = ['A','C','T','G']\n",
    "rd_sequences = [''.join(i) for i in itertools.product(bases, repeat = 12)]\n",
    "rd_sequences[:3]"
   ]
  },
  {
   "cell_type": "code",
   "execution_count": 14,
   "metadata": {},
   "outputs": [],
   "source": [
    "## Import mouse genome\n",
    "def readGenome(filename):\n",
    "    genome = ''\n",
    "    with open(filename, 'r') as f:\n",
    "        for line in f:\n",
    "            if not line[0] == '>':\n",
    "                genome += line.rstrip()\n",
    "                return genome\n",
    "    \n",
    "mm10 = readGenome('/DATA/usr/f.comoglio/Annotations/Genomes/mm10_gencode_v_m16/GRCm38.p5.genome.fa')\n",
    "\n",
    "mm10[:3]\n",
    "\n",
    "\n",
    "# Alternative\n",
    "import gzip\n",
    "f = gzip.open('/DATA/usr/m.trauernicht/projects/Data/Genomes/mm10/genome/fasta/chr1.fa.gz', 'wb')\n",
    "\n",
    "# alignments = pairwise2.align.globalxx(rd_sequences, mm10)"
   ]
  },
  {
   "cell_type": "code",
   "execution_count": 61,
   "metadata": {
    "collapsed": true
   },
   "outputs": [],
   "source": [
    "./DATA/usr/m.trauernicht/projects/tf_activity_reporter/Oligo_Design/All-motifs/mt20200218_kmer-mapping.py | bowtie --sam --best --strata -v 0 -n 0 -l 14 -k 1 -m 1 -M 1 -f bowtie_index /dev/stdin | mawk '$1 ~ /^@/ {next} {if ($6 != \"16M\") print $10}' | tee >(pigz > kmers_notHG38.txt.gz) | wc -l /dev/stdin\n"
   ]
  },
  {
   "cell_type": "code",
   "execution_count": null,
   "metadata": {
    "collapsed": true
   },
   "outputs": [],
   "source": [
    "## align 14-bp kmers against mouse genome -> if exact match, keep kmer\n"
   ]
  },
  {
   "cell_type": "code",
   "execution_count": null,
   "metadata": {
    "collapsed": true
   },
   "outputs": [],
   "source": [
    "## import TF db\n",
    "## Calculate levenshtein distance between k-mers and TF PWMs\n",
    "## Discard sequences with large distances"
   ]
  }
 ],
 "metadata": {
  "kernelspec": {
   "display_name": "Jupyter",
   "language": "python",
   "name": "jupyter"
  },
  "language_info": {
   "codemirror_mode": {
    "name": "ipython",
    "version": 3
   },
   "file_extension": ".py",
   "mimetype": "text/x-python",
   "name": "python",
   "nbconvert_exporter": "python",
   "pygments_lexer": "ipython3",
   "version": "3.7.5"
  }
 },
 "nbformat": 4,
 "nbformat_minor": 2
}
