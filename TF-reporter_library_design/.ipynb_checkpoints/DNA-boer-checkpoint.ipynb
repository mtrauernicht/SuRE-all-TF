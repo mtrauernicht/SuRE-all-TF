{
 "cells": [
  {
   "cell_type": "code",
   "execution_count": null,
   "metadata": {},
   "outputs": [],
   "source": [
    "from string import maketrans\n",
    "#import string\n",
    "rcTab = maketrans(\"ATGCatgc\",\"TACGtacg\");\n",
    "def revcomp(seq):\n",
    "\tglobal rcTab\n",
    "\treturn seq.translate(rcTab)[::-1];\n",
    "\n",
    "\n",
    "def levenshtein(s1, s2):\n",
    "\tif len(s1) < len(s2):\n",
    "\t\treturn levenshtein(s2, s1)\n",
    "\t# len(s1) >= len(s2)\n",
    "\tif len(s2) == 0:\n",
    "\t\treturn len(s1)\n",
    "\tprevious_row = range(len(s2) + 1)\n",
    "\tfor i, c1 in enumerate(s1):\n",
    "\t\tcurrent_row = [i + 1]\n",
    "\t\tfor j, c2 in enumerate(s2):\n",
    "\t\t\tinsertions = previous_row[j + 1] + 1 # j+1 instead of j since previous_row and current_row are one character longer\n",
    "\t\t\tdeletions = current_row[j] + 1 # than s2\n",
    "\t\t\tsubstitutions = previous_row[j] + (c1 != c2)\n",
    "\t\t\tcurrent_row.append(min(insertions, deletions, substitutions))\n",
    "\t\tprevious_row = current_row\n",
    "\treturn previous_row[-1]"
   ]
  }
 ],
 "metadata": {
  "kernelspec": {
   "display_name": "Python 3",
   "language": "python",
   "name": "python3"
  },
  "language_info": {
   "codemirror_mode": {
    "name": "ipython",
    "version": 3
   },
   "file_extension": ".py",
   "mimetype": "text/x-python",
   "name": "python",
   "nbconvert_exporter": "python",
   "pygments_lexer": "ipython3",
   "version": "3.7.4"
  }
 },
 "nbformat": 4,
 "nbformat_minor": 2
}
